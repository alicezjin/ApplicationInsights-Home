{
 "cells": [
  {
   "cell_type": "markdown",
   "metadata": {},
   "source": [
    "#### Install packages\n",
    "*exclude the below cell when uploading to Azure App Service*"
   ]
  },
  {
   "cell_type": "code",
   "execution_count": 1,
   "metadata": {
    "collapsed": false
   },
   "outputs": [],
   "source": [
    "!pip install --upgrade pip\n",
    "!pip install --upgrade applicationinsights-jupyter\n",
    "!pip install applicationinsights"
   ]
  },
  {
   "cell_type": "markdown",
   "metadata": {},
   "source": [
    "#### Imports"
   ]
  },
  {
   "cell_type": "code",
   "execution_count": 2,
   "metadata": {
    "collapsed": false
   },
   "outputs": [],
   "source": [
    "from applicationinsights_jupyter import Jupyter\n",
    "from applicationinsights import TelemetryClient\n",
    "import requests"
   ]
  },
  {
   "cell_type": "markdown",
   "metadata": {},
   "source": [
    "#### Constants"
   ]
  },
  {
   "cell_type": "code",
   "execution_count": 3,
   "metadata": {
    "collapsed": false
   },
   "outputs": [],
   "source": [
    "API_URL = \"https://api.aimon.applicationinsights.io/\"\n",
    "APP_ID = \"\" #todo: Application ID of the Application Insights resourse from which telemetry data is queried\n",
    "API_KEY = \"\" #todo: API Key with read access to the Application Insights resource with APP_ID specified above \n",
    "IKEY = \"\" #todo: Instrumentation Key of the Application Insights resource to which derived metric is sent\n",
    "QUERY_STRING = \"\" #todo: Kusto query string to execute\n",
    "METRIC_NAME = \"\" #todo: Name of the derived metric that will be sent back to the Application Insights resource"
   ]
  },
  {
   "cell_type": "markdown",
   "metadata": {},
   "source": [
    "#### Query for telemetry data from Application Insights"
   ]
  },
  {
   "cell_type": "code",
   "execution_count": null,
   "metadata": {
    "collapsed": false
   },
   "outputs": [],
   "source": [
    "try:  \n",
    "    jupyterObj = Jupyter(APP_ID, API_KEY, API_URL)\n",
    "    queryResult = jupyterObj.getAIData(QUERY_STRING)\n",
    "except requests.RequestException, e:\n",
    "    print e"
   ]
  },
  {
   "cell_type": "markdown",
   "metadata": {},
   "source": [
    "#### Perform advanced analytics on telemetry data"
   ]
  },
  {
   "cell_type": "code",
   "execution_count": null,
   "metadata": {
    "collapsed": true
   },
   "outputs": [],
   "source": [
    "# todo: manipulate telemetry data using Python 2.7 for \n",
    "#       - data cleaning and transformation\n",
    "#       - numerical simulation \n",
    "#       - statistical modeling\n",
    "#       - machine learning \n",
    "#       - etc.\n",
    "#       query for more telemetry data as needed to enrich the analysis"
   ]
  },
  {
   "cell_type": "markdown",
   "metadata": {},
   "source": [
    "#### Send derived data back to Application Insights"
   ]
  },
  {
   "cell_type": "code",
   "execution_count": null,
   "metadata": {
    "collapsed": false,
    "scrolled": false
   },
   "outputs": [],
   "source": [
    "tc = TelemetryClient(IKEY)\n",
    "tc.track_metric(METRIC_NAME, 1)\n",
    "tc.flush()"
   ]
  }
 ],
 "metadata": {
  "kernelspec": {
   "display_name": "Python 2",
   "language": "python",
   "name": "python2"
  },
  "language_info": {
   "codemirror_mode": {
    "name": "ipython",
    "version": 2
   },
   "file_extension": ".py",
   "mimetype": "text/x-python",
   "name": "python",
   "nbconvert_exporter": "python",
   "pygments_lexer": "ipython2",
   "version": "2.7.11"
  }
 },
 "nbformat": 4,
 "nbformat_minor": 2
}
